{
 "cells": [
  {
   "cell_type": "code",
   "execution_count": 1,
   "id": "e85d94dd-1a99-4395-b937-ebe84dbe97a3",
   "metadata": {},
   "outputs": [],
   "source": [
    "a = \"ts-client-valo-protocol-manual-hts-cellinsight-mosaic-dotmatics/to/somewhere/far/far/away/foo.bar\"\n",
    "b = \"ts-client-valo-task-script-hts-plate-reader-echo-mosaic-dotmatics/to/somewhere/far/far/away/notfoo.bar\"\n",
    "c = \"ts-task-script-hello-world/Lab1\""
   ]
  },
  {
   "cell_type": "code",
   "execution_count": 16,
   "id": "0b4e8f26-7e6c-4c1a-a6db-d30803a0dc4e",
   "metadata": {},
   "outputs": [],
   "source": [
    "asplit = a.split(\"/\")\n",
    "bsplit = b.split(\"/\")"
   ]
  },
  {
   "cell_type": "code",
   "execution_count": 8,
   "id": "459e20c3-b0cd-4aab-b91a-15ac1f72c9bd",
   "metadata": {},
   "outputs": [],
   "source": [
    "match_mask = []\n",
    "for i, j in zip(a, b):\n",
    "    match_mask.append(i == j)"
   ]
  },
  {
   "cell_type": "code",
   "execution_count": 10,
   "id": "a78a400f-0d8f-4c78-ba25-ecbccc5d4205",
   "metadata": {},
   "outputs": [],
   "source": [
    "final_string = \"\"\n",
    "for m, i in zip(match_mask, a):\n",
    "    if m:\n",
    "        final_string += \".\"\n",
    "    else:\n",
    "        final_string += i"
   ]
  },
  {
   "cell_type": "code",
   "execution_count": 11,
   "id": "e6c04ad9-682b-426b-87af-09c312d1ddb6",
   "metadata": {},
   "outputs": [
    {
     "data": {
      "text/plain": [
       "'.................f.le/to/somewhere/far/fa./aw.y..oo.bar'"
      ]
     },
     "execution_count": 11,
     "metadata": {},
     "output_type": "execute_result"
    }
   ],
   "source": [
    "final_string"
   ]
  },
  {
   "cell_type": "code",
   "execution_count": null,
   "id": "bc703a4a-ad5d-4557-88fd-4da9ac216ca3",
   "metadata": {},
   "outputs": [],
   "source": [
    "for i in range\n",
    "for i in range[tuple(data[i:i+3]) for i in range(len(data) - 2)]"
   ]
  },
  {
   "cell_type": "raw",
   "id": "66b3401e-5a75-4453-93f8-c7dfe40343d4",
   "metadata": {},
   "source": [
    "final_string = \"\"\n",
    "for i in range(0, len(a) - 2, 2):\n",
    "    if a[i: i+3] == b[i: i+3]:\n",
    "        final_string += \".\"\n",
    "    else:\n",
    "        final_string += a[i: i+3]\n",
    "    # print(a[i:i+3])\n",
    "    print(a[i: i+3], b[i: i+3], final_string)\n",
    "final_string    "
   ]
  },
  {
   "cell_type": "code",
   "execution_count": 45,
   "id": "d13bad94-ea20-486c-b15f-9705ef4f91e9",
   "metadata": {},
   "outputs": [
    {
     "name": "stdout",
     "output_type": "stream",
     "text": [
      "verylongpathwithafile/.../.../.../.../.../foo.bar\n",
      "verylongpathwithadifferentpath/.../.../.../.../.../notfoo.bar\n"
     ]
    }
   ],
   "source": [
    "a_final = []\n",
    "b_final = []\n",
    "for ai, bi in zip(asplit[:-1], bsplit[:-1]):\n",
    "    if ai == bi:\n",
    "        a_final.append(\"...\")\n",
    "        b_final.append(\"...\")\n",
    "    else:\n",
    "        a_final.append(ai)\n",
    "        b_final.append(bi)\n",
    "\n",
    "a_final.append(asplit[-1])\n",
    "b_final.append(bsplit[-1])\n",
    "\n",
    "a_final = \"/\".join(a_final)\n",
    "b_final = \"/\".join(b_final)\n",
    "\n",
    "print(a_final)\n",
    "print(b_final)"
   ]
  },
  {
   "cell_type": "code",
   "execution_count": 41,
   "id": "1229c2dd-0f23-4124-ac94-ff3e839018fd",
   "metadata": {},
   "outputs": [
    {
     "name": "stdout",
     "output_type": "stream",
     "text": [
      "1 1\n",
      "2 2\n",
      "3 3\n"
     ]
    }
   ],
   "source": [
    "for i, j in zip([1,2,3], [1,2,3,4,5]):\n",
    "    print(i, j)"
   ]
  },
  {
   "cell_type": "code",
   "execution_count": 47,
   "id": "f95c38c1-1cce-4b5b-8ae3-6b6b34aa75a5",
   "metadata": {},
   "outputs": [],
   "source": [
    "from dafsa import DAFSA"
   ]
  },
  {
   "cell_type": "code",
   "execution_count": 2,
   "id": "60b03dcb-7614-4f14-a198-04ff942a70bc",
   "metadata": {},
   "outputs": [],
   "source": [
    "# ??DAFSA"
   ]
  },
  {
   "cell_type": "code",
   "execution_count": 66,
   "id": "6e0e3b47-beef-4205-ad0d-4b3eed208eed",
   "metadata": {},
   "outputs": [
    {
     "name": "stdout",
     "output_type": "stream",
     "text": [
      "verylongpathwithafile/to/somewhere/far/far/away/foo.bar\n",
      "verylongpathwithadifferentpath/to/somewhere/far/far/away/notfoo.bar\n"
     ]
    }
   ],
   "source": [
    "print(a)\n",
    "print(b)"
   ]
  },
  {
   "cell_type": "code",
   "execution_count": 89,
   "id": "d6ac927a-3f2b-4ade-a59d-35ee6d8a354f",
   "metadata": {},
   "outputs": [],
   "source": [
    "dobj = DAFSA([a, b], delimiter=\"/\")"
   ]
  },
  {
   "cell_type": "code",
   "execution_count": 101,
   "id": "31ec8ff6-2fad-4e60-b5cb-64b6aebcde36",
   "metadata": {},
   "outputs": [
    {
     "data": {
      "text/plain": [
       "0(#1/2:<v>/2)"
      ]
     },
     "execution_count": 101,
     "metadata": {},
     "output_type": "execute_result"
    }
   ],
   "source": [
    "dobj.nodes[0]"
   ]
  },
  {
   "cell_type": "code",
   "execution_count": 116,
   "id": "96ce698e-3624-4275-8979-ddf9c6d79edc",
   "metadata": {},
   "outputs": [
    {
     "data": {
      "text/plain": [
       "'.................d................................................................................'"
      ]
     },
     "execution_count": 116,
     "metadata": {},
     "output_type": "execute_result"
    }
   ],
   "source": [
    "common_str = \"\"\n",
    "for i in sorted(dobj.nodes):\n",
    "    if \";\" not in str(dobj.nodes[i]):\n",
    "        common_str += \".\"\n",
    "    else:\n",
    "        common_str += str(dobj.nodes[i])[0]\n",
    "    # print(dobj.nodes[i])a\n",
    "common_str"
   ]
  },
  {
   "cell_type": "code",
   "execution_count": 106,
   "id": "02a5753c-3777-4224-8e1f-0b40fc91d625",
   "metadata": {},
   "outputs": [
    {
     "name": "stdout",
     "output_type": "stream",
     "text": [
      "0 v|1\n",
      "67 \n",
      "66 r|67\n",
      "65 a|66\n",
      "64 b|65\n",
      "63 .|64\n",
      "62 o|63\n",
      "61 o|62\n",
      "60 f|61\n",
      "59 t|60\n",
      "58 o|59\n",
      "57 n|58\n",
      "56 /|57\n",
      "55 y|56\n",
      "54 a|55\n",
      "53 w|54\n",
      "52 a|53\n",
      "51 /|52\n",
      "50 r|51\n",
      "49 a|50\n",
      "48 f|49\n",
      "47 /|48\n",
      "46 r|47\n",
      "45 a|46\n",
      "44 f|45\n",
      "43 /|44\n",
      "42 e|43\n",
      "41 r|42\n",
      "40 e|41\n",
      "39 h|40\n",
      "38 w|39\n",
      "37 e|38\n",
      "36 m|37\n",
      "35 o|36\n",
      "34 s|35\n",
      "33 /|34\n",
      "32 o|33\n",
      "31 t|32\n",
      "30 /|31\n",
      "29 h|30\n",
      "28 t|29\n",
      "27 a|28\n",
      "26 p|27\n",
      "25 t|26\n",
      "24 n|25\n",
      "23 e|24\n",
      "22 r|23\n",
      "21 e|22\n",
      "20 f|21\n",
      "19 f|20\n",
      "18 i|19\n",
      "97 /|60\n",
      "96 y|97\n",
      "95 a|96\n",
      "94 w|95\n",
      "93 a|94\n",
      "92 /|93\n",
      "91 r|92\n",
      "90 a|91\n",
      "89 f|90\n",
      "88 /|89\n",
      "87 r|88\n",
      "86 a|87\n",
      "85 f|86\n",
      "84 /|85\n",
      "83 e|84\n",
      "82 r|83\n",
      "81 e|82\n",
      "80 h|81\n",
      "79 w|80\n",
      "78 e|79\n",
      "77 m|78\n",
      "76 o|77\n",
      "75 s|76\n",
      "74 /|75\n",
      "73 o|74\n",
      "72 t|73\n",
      "71 /|72\n",
      "70 e|71\n",
      "69 l|70\n",
      "68 i|69\n",
      "17 d|18;f|68\n",
      "16 a|17\n",
      "15 h|16\n",
      "14 t|15\n",
      "13 i|14\n",
      "12 w|13\n",
      "11 h|12\n",
      "10 t|11\n",
      "9 a|10\n",
      "8 p|9\n",
      "7 g|8\n",
      "6 n|7\n",
      "5 o|6\n",
      "4 l|5\n",
      "3 y|4\n",
      "2 r|3\n",
      "1 e|2\n"
     ]
    }
   ],
   "source": [
    "for k, v in dobj.nodes.items():\n",
    "    print(k, v)"
   ]
  },
  {
   "cell_type": "code",
   "execution_count": 94,
   "id": "1c2e4344-4b2f-439a-a030-611360f26967",
   "metadata": {},
   "outputs": [
    {
     "ename": "TypeError",
     "evalue": "'int' object is not iterable",
     "output_type": "error",
     "traceback": [
      "\u001b[0;31m---------------------------------------------------------------------------\u001b[0m",
      "\u001b[0;31mTypeError\u001b[0m                                 Traceback (most recent call last)",
      "Cell \u001b[0;32mIn[94], line 1\u001b[0m\n\u001b[0;32m----> 1\u001b[0m \u001b[38;5;28;43;01mfor\u001b[39;49;00m\u001b[43m \u001b[49m\u001b[43mi\u001b[49m\u001b[43m \u001b[49m\u001b[38;5;129;43;01min\u001b[39;49;00m\u001b[43m \u001b[49m\u001b[43mdobj\u001b[49m\u001b[38;5;241;43m.\u001b[39;49m\u001b[43mcount_sequences\u001b[49m\u001b[43m(\u001b[49m\u001b[43m)\u001b[49m\u001b[43m:\u001b[49m\n\u001b[1;32m      2\u001b[0m \u001b[43m    \u001b[49m\u001b[43mpritn\u001b[49m\u001b[43m(\u001b[49m\u001b[43mi\u001b[49m\u001b[43m)\u001b[49m\n",
      "\u001b[0;31mTypeError\u001b[0m: 'int' object is not iterable"
     ]
    }
   ],
   "source": [
    "for i in dobj.nodes:\n",
    "    pritn(i)"
   ]
  },
  {
   "cell_type": "code",
   "execution_count": 92,
   "id": "697077ae-8c1b-4e0a-a0b5-9d84af621944",
   "metadata": {},
   "outputs": [],
   "source": [
    "dobj.lookup(\"very\")"
   ]
  },
  {
   "cell_type": "code",
   "execution_count": 82,
   "id": "fdf9f4e1-9fbf-43ee-a8f0-e5c891d9d169",
   "metadata": {},
   "outputs": [],
   "source": [
    "G = dobj.to_graph()"
   ]
  },
  {
   "cell_type": "code",
   "execution_count": 83,
   "id": "095567fd-6ac4-4dca-aa2d-098e7a4758c8",
   "metadata": {},
   "outputs": [
    {
     "ename": "AttributeError",
     "evalue": "'Graph' object has no attribute 'draw'",
     "output_type": "error",
     "traceback": [
      "\u001b[0;31m---------------------------------------------------------------------------\u001b[0m",
      "\u001b[0;31mAttributeError\u001b[0m                            Traceback (most recent call last)",
      "Cell \u001b[0;32mIn[83], line 1\u001b[0m\n\u001b[0;32m----> 1\u001b[0m \u001b[43mG\u001b[49m\u001b[38;5;241;43m.\u001b[39;49m\u001b[43mdraw\u001b[49m()\n",
      "\u001b[0;31mAttributeError\u001b[0m: 'Graph' object has no attribute 'draw'"
     ]
    }
   ],
   "source": [
    "G.draw()"
   ]
  },
  {
   "cell_type": "code",
   "execution_count": 88,
   "id": "f92e79f9-7f8c-4a2f-afc7-0e507714468e",
   "metadata": {},
   "outputs": [
    {
     "ename": "AttributeError",
     "evalue": "'Graph' object has no attribute 'labels'",
     "output_type": "error",
     "traceback": [
      "\u001b[0;31m---------------------------------------------------------------------------\u001b[0m",
      "\u001b[0;31mAttributeError\u001b[0m                            Traceback (most recent call last)",
      "Cell \u001b[0;32mIn[88], line 1\u001b[0m\n\u001b[0;32m----> 1\u001b[0m \u001b[43mG\u001b[49m\u001b[38;5;241;43m.\u001b[39;49m\u001b[43mlabels\u001b[49m()\n",
      "\u001b[0;31mAttributeError\u001b[0m: 'Graph' object has no attribute 'labels'"
     ]
    }
   ],
   "source": [
    "G.labels()"
   ]
  },
  {
   "cell_type": "markdown",
   "id": "73e3d6c5-3856-4b53-841d-02f8d10eb10a",
   "metadata": {},
   "source": [
    "#### "
   ]
  },
  {
   "cell_type": "code",
   "execution_count": 86,
   "id": "621457dc-ec86-4017-bcbb-a66194890402",
   "metadata": {},
   "outputs": [
    {
     "data": {
      "image/png": "[encoded data removed]",
      "text/plain": [
       "<Figure size 640x480 with 1 Axes>"
      ]
     },
     "metadata": {},
     "output_type": "display_data"
    }
   ],
   "source": [
    "import networkx as nx\n",
    "\n",
    "nx.draw(G, with_labels=True)\n",
    "# dobj.count_sequences()"
   ]
  },
  {
   "cell_type": "code",
   "execution_count": 85,
   "id": "b4366f3b-4ee4-4816-9584-f21a8c38e4a0",
   "metadata": {},
   "outputs": [
    {
     "data": {
      "text/plain": [
       "98"
      ]
     },
     "execution_count": 85,
     "metadata": {},
     "output_type": "execute_result"
    }
   ],
   "source": [
    "dobj.count_edges()"
   ]
  },
  {
   "cell_type": "code",
   "execution_count": 64,
   "id": "281798e1-18b2-475f-bc24-764e166c15dd",
   "metadata": {},
   "outputs": [
    {
     "name": "stdout",
     "output_type": "stream",
     "text": [
      "verylongpathwithafile,to,somewhere,far,far,away,foo.bar,"
     ]
    }
   ],
   "source": [
    "for i in a.split(\"/\"):\n",
    "    print(f\"{i},\", end=\"\")"
   ]
  },
  {
   "cell_type": "code",
   "execution_count": 17,
   "id": "b8077291-90dc-4bb0-ba51-179fdc9d55a6",
   "metadata": {},
   "outputs": [],
   "source": [
    "a0_ord = [ord(i) for i in a.split(\"/\")[0]]\n",
    "b0_ord = [ord(i) for i in b.split(\"/\")[0]]\n"
   ]
  },
  {
   "cell_type": "code",
   "execution_count": 18,
   "id": "599c80f2-d0b1-41e8-94f7-ab2848715271",
   "metadata": {},
   "outputs": [],
   "source": [
    "ab0_diff = []\n",
    "for i, j in zip(a0_ord, b0_ord):\n",
    "    ab0_diff.append(i-j)\n"
   ]
  },
  {
   "cell_type": "code",
   "execution_count": 19,
   "id": "5df2fbd4-3743-4365-9ed9-7aa4d3fd38b4",
   "metadata": {},
   "outputs": [
    {
     "data": {
      "text/plain": [
       "[0,\n",
       " 0,\n",
       " 0,\n",
       " 0,\n",
       " 0,\n",
       " 0,\n",
       " 0,\n",
       " 0,\n",
       " 0,\n",
       " 0,\n",
       " 0,\n",
       " 0,\n",
       " 0,\n",
       " 0,\n",
       " 0,\n",
       " -4,\n",
       " 17,\n",
       " -4,\n",
       " 9,\n",
       " 66,\n",
       " -16,\n",
       " 12,\n",
       " -6,\n",
       " -60,\n",
       " -3,\n",
       " -19,\n",
       " 65,\n",
       " 13,\n",
       " -19,\n",
       " -7,\n",
       " 0,\n",
       " -8,\n",
       " 8,\n",
       " 18,\n",
       " -71,\n",
       " -2,\n",
       " 56,\n",
       " -6,\n",
       " 7,\n",
       " 8,\n",
       " 10,\n",
       " 14,\n",
       " -9,\n",
       " 58,\n",
       " 3,\n",
       " 17,\n",
       " -59,\n",
       " -2,\n",
       " 66,\n",
       " 6,\n",
       " -14,\n",
       " -10,\n",
       " 2,\n",
       " -60,\n",
       " 1,\n",
       " 66,\n",
       " 16,\n",
       " -2,\n",
       " -19,\n",
       " 7,\n",
       " 8,\n",
       " -17,\n",
       " 10]"
      ]
     },
     "execution_count": 19,
     "metadata": {},
     "output_type": "execute_result"
    }
   ],
   "source": [
    "ab0_diff"
   ]
  },
  {
   "cell_type": "code",
   "execution_count": 36,
   "id": "0440f0d7-7d29-44ea-9811-41dc605f80e9",
   "metadata": {},
   "outputs": [
    {
     "name": "stdout",
     "output_type": "stream",
     "text": [
      "ts-c ts-c [0, 0, 0, 0]\n",
      "lien lien [0, 0, 0, 0]\n",
      "t-va t-va [0, 0, 0, 0]\n",
      "lo-p lo-t [0, 0, 0, -4]\n",
      "roto ask- [17, -4, 9, 66]\n",
      "col- scri [-16, 12, -6, -60]\n",
      "manu pt-h [-3, -19, 65, 13]\n",
      "al-h ts-p [-19, -7, 0, -8]\n",
      "ts-c late [8, 18, -71, -2]\n",
      "elli -rea [56, -6, 7, 8]\n",
      "nsig der- [10, 14, -9, 58]\n",
      "ht-m echo [3, 17, -59, -2]\n",
      "osai -mos [66, 6, -14, -10]\n",
      "c-do aic- [2, -60, 1, 66]\n",
      "tmat dotm [16, -2, -19, 7]\n",
      ".........lo-protocol-manual-hts-cellinsight-mosaic-dotmat\n",
      ".........lo-task-script-hts-plate-reader-echo-mosaic-dotm\n"
     ]
    }
   ],
   "source": [
    "a_edited = \"\"\n",
    "b_edited = \"\"\n",
    "window_size = 4\n",
    "for i in range(0, len(ab0_diff) - window_size - 1, window_size):\n",
    "    print(asplit[0][i: i+window_size], bsplit[0][i: i+window_size], ab0_diff[i: i+window_size])\n",
    "    # print(ab0_diff[i: i+window_size] == [0]*window_size)\n",
    "    if ab0_diff[i: i+window_size] == [0]*window_size:\n",
    "        a_edited += \"...\"\n",
    "        b_edited += \"...\"\n",
    "    else:\n",
    "        a_edited += asplit[0][i: i+window_size]\n",
    "        b_edited += bsplit[0][i: i+window_size]\n",
    "\n",
    "print(a_edited)\n",
    "print(b_edited)\n"
   ]
  },
  {
   "cell_type": "raw",
   "id": "7785d1e1-0448-49af-ab6e-f3887ce214a8",
   "metadata": {},
   "source": [
    "from itertools import zip_longest\n",
    "for i, j, k in zip_longest(asplit[0], bsplit[0], ab0_diff, fillvalue=-1):\n",
    "    print(i, j, k)"
   ]
  },
  {
   "cell_type": "code",
   "execution_count": 158,
   "id": "a4419a1b-c9e3-4fff-bf45-04c7da651733",
   "metadata": {},
   "outputs": [],
   "source": [
    "splits = a.split(\"/\"), b.split(\"/\")#, c.split(\"/\")"
   ]
  },
  {
   "cell_type": "code",
   "execution_count": 178,
   "id": "95633d83-b7e8-4291-88b6-df3ab70e68f0",
   "metadata": {},
   "outputs": [
    {
     "name": "stdout",
     "output_type": "stream",
     "text": [
      "ts-client-valo-protocol-manual-hts-cellinsight-mosaic-dotmatics/to/somewhere/far/far/away/foo.bar ts-client-valo-task-script-hts-plate-reader-echo-mosaic-dotmatics/to/somewhere/far/far/away/notfoo.bar\n",
      "['...o-protocol-manual-hts-cellinsight-mosaic-dotmatics/to/somewhere/far/far/awayfoo.bar', '...o-task-script-hts-plate-reader-echo-mosaic-dotmatics/to/somewhere/far/far/awaynotfoo.bar']\n"
     ]
    }
   ],
   "source": [
    "final_slices = []\n",
    "for i in range(len(slice_list)):\n",
    "    final_slices.append(\"\")\n",
    "\n",
    "print(a, b)\n",
    "\n",
    "for i_slice in range(max(map(len, splits))):\n",
    "    dots = False\n",
    "    slice_list = []\n",
    "    for s in splits:\n",
    "        try:\n",
    "            slice_list.append(s[i_slice])\n",
    "        except IndexError as e:\n",
    "            continue\n",
    "            \n",
    "    max_in_slice = max(map(len, slice_list))\n",
    "\n",
    "\n",
    "    if max_in_slice < 10:\n",
    "        for sli, sl in enumerate(slice_list):\n",
    "            final_slices[sli] += \"/\" + sl\n",
    "        continue\n",
    "\n",
    "    slice_list = [i.ljust(max_in_slice, chr(0)) for i in slice_list]\n",
    "    # print(slice_list)\n",
    "\n",
    "    mask = []\n",
    "    for vals in zip(*slice_list):\n",
    "        if len(set(vals)) != 1:\n",
    "            mask.append(True)\n",
    "        else:\n",
    "            mask.append(False)\n",
    "\n",
    "    surround_size = 2\n",
    "    \n",
    "    mask_shifted = mask.copy()\n",
    "    mask_shifted += [False] * surround_size\n",
    "    mask_shifted = mask_shifted[surround_size:]\n",
    "    final_mask = [a or b for a, b in zip(mask, mask_shifted)]\n",
    "\n",
    "    for vals in zip(*slice_list, final_mask):\n",
    "        # print(\"\", vals[0], vals[1], vals[2])\n",
    "        if len(set(vals[:-1])) == 1 and not vals[-1]:\n",
    "            for i in range(len(vals[:-1])):\n",
    "                if not final_slices[i].startswith(\"...\"):\n",
    "                    final_slices[i] += \"...\"\n",
    "        else:\n",
    "            for i in range(len(vals[:-1])):\n",
    "                final_slices[i] += vals[i].strip(chr(0))\n",
    "\n",
    "\n",
    "print(final_slices)"
   ]
  },
  {
   "cell_type": "markdown",
   "id": "13cc83e0-a0ed-4dd3-ac74-0aeb65996b1c",
   "metadata": {},
   "source": [
    "# Function below doesn't work"
   ]
  },
  {
   "cell_type": "code",
   "execution_count": 247,
   "id": "8d77c847-9f51-40e2-beff-74445456ef73",
   "metadata": {},
   "outputs": [
    {
     "data": {
      "text/plain": [
       "['abc', 'abc']"
      ]
     },
     "execution_count": 247,
     "metadata": {},
     "output_type": "execute_result"
    }
   ],
   "source": [
    "l = [\"abcjgf\", \"abczxc\"]\n",
    "qwe = list(map(lambda x: x[0:3], l))\n",
    "map(lambda x"
   ]
  },
  {
   "cell_type": "code",
   "execution_count": 164,
   "id": "8269cb08-a802-4646-9f14-1bcfc56dd23d",
   "metadata": {},
   "outputs": [
    {
     "data": {
      "text/plain": [
       "'qwe'"
      ]
     },
     "execution_count": 164,
     "metadata": {},
     "output_type": "execute_result"
    }
   ],
   "source": [
    "\".......qwe.........\".strip(\".\")"
   ]
  },
  {
   "cell_type": "code",
   "execution_count": 128,
   "id": "cd3d0ba5-9cd1-4ddf-b662-9d2c7e42b27c",
   "metadata": {},
   "outputs": [
    {
     "data": {
      "text/plain": [
       "[1, 34]"
      ]
     },
     "execution_count": 128,
     "metadata": {},
     "output_type": "execute_result"
    }
   ],
   "source": [
    "qwe = [1, 2, 34]\n",
    "result = qwe.pop(1)\n",
    "# qwe.insert(1, result)\n",
    "qwe"
   ]
  },
  {
   "cell_type": "code",
   "execution_count": 114,
   "id": "5c1b9f2e-1bc5-439f-a156-fb0b3e6f96ab",
   "metadata": {},
   "outputs": [
    {
     "name": "stdout",
     "output_type": "stream",
     "text": [
      "(116, 116, 116)\n",
      "(115, 115, 115)\n",
      "(45, 45, 45)\n",
      "(45, 45, 45)\n"
     ]
    }
   ],
   "source": [
    "for vals in zip(*slice_list):\n",
    "    if len(set(vals)) == 1:\n",
    "        print(vals)"
   ]
  },
  {
   "cell_type": "code",
   "execution_count": 102,
   "id": "e3f63c3f-b8b3-49e6-8b34-fc268ba0959f",
   "metadata": {},
   "outputs": [
    {
     "data": {
      "text/plain": [
       "[[102, 111, 111, 46, 98, 97, 114, 97, 97, 97],\n",
       " [110, 111, 116, 102, 111, 111, 46, 98, 97, 114]]"
      ]
     },
     "execution_count": 102,
     "metadata": {},
     "output_type": "execute_result"
    }
   ],
   "source": [
    "slice_list\n",
    "\n",
    "[list(map(ord, i)) for i in slice_list]"
   ]
  },
  {
   "cell_type": "code",
   "execution_count": 90,
   "id": "db8e27a7-7d50-4a15-8156-6c6c8fd2baaa",
   "metadata": {},
   "outputs": [
    {
     "data": {
      "text/plain": [
       "97"
      ]
     },
     "execution_count": 90,
     "metadata": {},
     "output_type": "execute_result"
    }
   ],
   "source": [
    "ord(\"a\")"
   ]
  },
  {
   "cell_type": "code",
   "execution_count": 94,
   "id": "81477ff1-5419-4d05-a454-3275509f85c6",
   "metadata": {},
   "outputs": [
    {
     "data": {
      "text/plain": [
       "[97, 97]"
      ]
     },
     "execution_count": 94,
     "metadata": {},
     "output_type": "execute_result"
    }
   ],
   "source": [
    "list(map(ord, \"aa\"))"
   ]
  },
  {
   "cell_type": "code",
   "execution_count": 58,
   "id": "b49d613a-e204-42fb-8721-1342cbf44d21",
   "metadata": {},
   "outputs": [
    {
     "ename": "ValueError",
     "evalue": "0 is not in list",
     "output_type": "error",
     "traceback": [
      "\u001b[0;31m---------------------------------------------------------------------------\u001b[0m",
      "\u001b[0;31mValueError\u001b[0m                                Traceback (most recent call last)",
      "Cell \u001b[0;32mIn[58], line 1\u001b[0m\n\u001b[0;32m----> 1\u001b[0m \u001b[43msplits\u001b[49m\u001b[43m[\u001b[49m\u001b[38;5;241;43m2\u001b[39;49m\u001b[43m]\u001b[49m\u001b[38;5;241;43m.\u001b[39;49m\u001b[43mindex\u001b[49m\u001b[43m(\u001b[49m\u001b[38;5;241;43m0\u001b[39;49m\u001b[43m)\u001b[49m\n",
      "\u001b[0;31mValueError\u001b[0m: 0 is not in list"
     ]
    }
   ],
   "source": [
    "splits[2].index(0)"
   ]
  },
  {
   "cell_type": "code",
   "execution_count": 70,
   "id": "cb50adb1-a669-4ae7-87a0-435801278331",
   "metadata": {},
   "outputs": [
    {
     "data": {
      "text/plain": [
       "'Lab1//////'"
      ]
     },
     "execution_count": 70,
     "metadata": {},
     "output_type": "execute_result"
    }
   ],
   "source": [
    "splits[2][1].ljust(10, \"/\")"
   ]
  },
  {
   "cell_type": "code",
   "execution_count": 75,
   "id": "834058e5-1525-47ca-886d-0ce12a05f138",
   "metadata": {},
   "outputs": [],
   "source": [
    "z = [0, 1, 3]\n",
    "x = [0, 4, 3]\n",
    "c = [0, 1, 0]"
   ]
  },
  {
   "cell_type": "code",
   "execution_count": 77,
   "id": "10680683-6c15-4349-9128-87b87f26bd6a",
   "metadata": {},
   "outputs": [
    {
     "ename": "TypeError",
     "evalue": "sub expected 2 arguments, got 3",
     "output_type": "error",
     "traceback": [
      "\u001b[0;31m---------------------------------------------------------------------------\u001b[0m",
      "\u001b[0;31mTypeError\u001b[0m                                 Traceback (most recent call last)",
      "Cell \u001b[0;32mIn[77], line 3\u001b[0m\n\u001b[1;32m      1\u001b[0m \u001b[38;5;28;01mimport\u001b[39;00m \u001b[38;5;21;01moperator\u001b[39;00m\n\u001b[0;32m----> 3\u001b[0m \u001b[38;5;28;43mlist\u001b[39;49m\u001b[43m(\u001b[49m\u001b[38;5;28;43mmap\u001b[39;49m\u001b[43m(\u001b[49m\u001b[43moperator\u001b[49m\u001b[38;5;241;43m.\u001b[39;49m\u001b[43msub\u001b[49m\u001b[43m,\u001b[49m\u001b[43m \u001b[49m\u001b[38;5;241;43m*\u001b[39;49m\u001b[43m[\u001b[49m\u001b[43mz\u001b[49m\u001b[43m,\u001b[49m\u001b[43m \u001b[49m\u001b[43mx\u001b[49m\u001b[43m,\u001b[49m\u001b[43m \u001b[49m\u001b[43mc\u001b[49m\u001b[43m]\u001b[49m\u001b[43m)\u001b[49m\u001b[43m)\u001b[49m\n",
      "\u001b[0;31mTypeError\u001b[0m: sub expected 2 arguments, got 3"
     ]
    }
   ],
   "source": [
    "import operator\n",
    "\n",
    "list(map(operator.sub, *[z, x, c]))"
   ]
  },
  {
   "cell_type": "code",
   "execution_count": 83,
   "id": "8ca9f7dd-4c07-43ac-a4e6-a1ef5e0b308e",
   "metadata": {},
   "outputs": [
    {
     "name": "stdout",
     "output_type": "stream",
     "text": [
      "0\n",
      "-4\n",
      "0\n"
     ]
    }
   ],
   "source": [
    "diff_list = []\n",
    "for vals in zip(*[z, x, c]):\n",
    "    tmp_diff = vals[0]\n",
    "    for i in vals[1:]:\n",
    "        tmp_diff -= i\n",
    "    print(tmp_diff)"
   ]
  },
  {
   "cell_type": "code",
   "execution_count": 86,
   "id": "461d32aa-f71c-41eb-bcb1-cae13b14f241",
   "metadata": {},
   "outputs": [
    {
     "ename": "AttributeError",
     "evalue": "'str' object has no attribute 'decode'",
     "output_type": "error",
     "traceback": [
      "\u001b[0;31m---------------------------------------------------------------------------\u001b[0m",
      "\u001b[0;31mAttributeError\u001b[0m                            Traceback (most recent call last)",
      "Cell \u001b[0;32mIn[86], line 1\u001b[0m\n\u001b[0;32m----> 1\u001b[0m \u001b[38;5;28;43mchr\u001b[39;49m\u001b[43m(\u001b[49m\u001b[38;5;241;43m0\u001b[39;49m\u001b[43m)\u001b[49m\u001b[38;5;241;43m.\u001b[39;49m\u001b[43mdecode\u001b[49m()\n",
      "\u001b[0;31mAttributeError\u001b[0m: 'str' object has no attribute 'decode'"
     ]
    }
   ],
   "source": [
    "chr(0).decode()"
   ]
  },
  {
   "cell_type": "code",
   "execution_count": 82,
   "id": "c8817110-f066-452f-84da-0610593f2b8f",
   "metadata": {},
   "outputs": [
    {
     "data": {
      "text/plain": [
       "[-1, -3]"
      ]
     },
     "execution_count": 82,
     "metadata": {},
     "output_type": "execute_result"
    }
   ],
   "source": [
    "[z[0] - i for i in z[1:]]"
   ]
  },
  {
   "cell_type": "code",
   "execution_count": null,
   "id": "6021fb8e-a1a6-43ae-9e84-d657d9633918",
   "metadata": {},
   "outputs": [],
   "source": []
  }
 ],
 "metadata": {
  "kernelspec": {
   "display_name": "my_env",
   "language": "python",
   "name": "my_env"
  },
  "language_info": {
   "codemirror_mode": {
    "name": "ipython",
    "version": 3
   },
   "file_extension": ".py",
   "mimetype": "text/x-python",
   "name": "python",
   "nbconvert_exporter": "python",
   "pygments_lexer": "ipython3",
   "version": "3.12.3"
  }
 },
 "nbformat": 4,
 "nbformat_minor": 5
}
